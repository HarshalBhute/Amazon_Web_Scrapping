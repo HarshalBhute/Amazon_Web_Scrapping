{
 "cells": [
  {
   "cell_type": "code",
   "execution_count": 1,
   "id": "5f1fe623",
   "metadata": {},
   "outputs": [],
   "source": [
    "# import libraries \n",
    "\n",
    "from bs4 import BeautifulSoup\n",
    "import requests\n",
    "import time\n",
    "import datetime\n",
    "\n",
    "import smtplib"
   ]
  },
  {
   "cell_type": "code",
   "execution_count": 2,
   "id": "0ad80f87",
   "metadata": {},
   "outputs": [
    {
     "name": "stdout",
     "output_type": "stream",
     "text": [
      "\n",
      "                     DUDEME I Predict The Future | Geek Half Sleeve T Shirt for Men | Coding T Shirt for Coders | Programmer T Shirt | Developer T Shirt | Round Neck Cotton T-Shirt …\n",
      "                    \n",
      "\n",
      "\n"
     ]
    }
   ],
   "source": [
    "# Connect to Website and pull in data\n",
    "\n",
    "URL = 'https://www.amazon.in/DUDEME-Predict-Programmer-Developer-T-Shirt/dp/B08J25GNW2/ref=sr_1_5?crid=2J27I5H9PMK4C&dib=eyJ2IjoiMSJ9.XUM2XtFYuyCX0c0HYo7jAY36uJNfGJ7TzadPSjN7VeXtUi-vVg0biylJQHQJEiTQ8UrdYU-SqY-F0jnkuCqso4xC2PSi2u7-pAaL0UBGbshU1ZqHc7c1sl_ijR9Y9mU2QUsd8GDLHSG1YJnhar8Sb8bR2r_6fwRosCb-VF0WJS52cUNqjSZa9kD0irkb2X-xK70sgTwbvUbrVcc9NLT3Y6jMDf15bBZaVp4lMmSqPWk.kuh_CfZcpz1Y0T9YA0PksnPFxKnvsqqxM2sAHFDWkI0&dib_tag=se&keywords=data+analyst+tshirt&qid=1707889394&sprefix=Data+Analyst+%2B+tshirt%2Caps%2C242&sr=8-5'\n",
    "\n",
    "headers = { \"User-Agent\": \"Mozilla/5.0 (Windows NT 10.0; Win64; x64) AppleWebKit/537.36 (KHTML, like Gecko) Chrome/121.0.0.0 Safari/537.36\", \n",
    "    \"X-Amzn-Trace-Id\": \"Root=1-65cc888a-2e1ef2802d11a6a015045b07\" }\n",
    "\n",
    "page = requests.get(URL, headers=headers)\n",
    "\n",
    "soup1 = BeautifulSoup(page.content, \"html.parser\")\n",
    "\n",
    "soup2 = BeautifulSoup(soup1.prettify(), \"html.parser\")\n",
    "\n",
    "title = soup2.find(class_='a-size-large product-title-word-break').get_text()\n",
    "\n",
    "price = soup2.find(class_='a-offscreen').get_text()\n",
    "\n",
    "\n",
    "print(title)\n",
    "print(price)"
   ]
  },
  {
   "cell_type": "code",
   "execution_count": 3,
   "id": "1b5d6c70",
   "metadata": {},
   "outputs": [
    {
     "name": "stdout",
     "output_type": "stream",
     "text": [
      "DUDEME I Predict The Future | Geek Half Sleeve T Shirt for Men | Coding T Shirt for Coders | Programmer T Shirt | Developer T Shirt | Round Neck Cotton T-Shirt …\n",
      "\n"
     ]
    }
   ],
   "source": [
    "price = price.strip()[1:]\n",
    "title = title.strip()\n",
    "\n",
    "print(title)\n",
    "print(price)"
   ]
  },
  {
   "cell_type": "code",
   "execution_count": 4,
   "id": "29482896",
   "metadata": {},
   "outputs": [
    {
     "name": "stdout",
     "output_type": "stream",
     "text": [
      "2024-03-09\n"
     ]
    }
   ],
   "source": [
    "import datetime\n",
    "\n",
    "today = datetime.date.today()\n",
    "\n",
    "print(today)"
   ]
  },
  {
   "cell_type": "code",
   "execution_count": 5,
   "id": "503c4b8c",
   "metadata": {},
   "outputs": [],
   "source": [
    "import csv\n",
    "\n",
    "header = ['Title','Price','Date']\n",
    "data = [title,price,today]\n",
    "\n",
    "#with open('AmazonWebScrapperDataSet.csv', 'w', newline='',encoding='UTF8') as f:\n",
    "    #writer = csv.writer(f)\n",
    "    #writer.writerow(header)\n",
    "    #writer.writerow(data)\n",
    "      "
   ]
  },
  {
   "cell_type": "code",
   "execution_count": 6,
   "id": "80b7b7e8",
   "metadata": {},
   "outputs": [
    {
     "name": "stdout",
     "output_type": "stream",
     "text": [
      "                                               Title  \\\n",
      "0  \\n                     DUDEME I Predict The Fu...   \n",
      "1  \\n                     DUDEME I Predict The Fu...   \n",
      "2  DUDEME I Predict The Future | Geek Half Sleeve...   \n",
      "3  DUDEME I Predict The Future | Geek Half Sleeve...   \n",
      "4  DUDEME I Predict The Future | Geek Half Sleeve...   \n",
      "5  DUDEME I Predict The Future | Geek Half Sleeve...   \n",
      "6  DUDEME I Predict The Future | Geek Half Sleeve...   \n",
      "7  DUDEME I Predict The Future | Geek Half Sleeve...   \n",
      "\n",
      "                                               Price        Date  \n",
      "0  \\n                      ₹499\\n                ...  2024-02-14  \n",
      "1  \\n                      ₹499\\n                ...  2024-02-14  \n",
      "2                                                NaN  2024-02-14  \n",
      "3                                                NaN  2024-02-14  \n",
      "4                                                NaN  2024-02-14  \n",
      "5                                                NaN  2024-02-14  \n",
      "6                                                NaN  2024-02-14  \n",
      "7                                                NaN  2024-02-14  \n"
     ]
    }
   ],
   "source": [
    "import pandas as pd\n",
    "\n",
    "df = pd.read_csv(r'C:\\Users\\harsh\\AmazonWebScrapperDataSet.csv')\n",
    "\n",
    "print(df)"
   ]
  },
  {
   "cell_type": "code",
   "execution_count": 7,
   "id": "622dc736",
   "metadata": {},
   "outputs": [],
   "source": [
    "#Now we are attending data to the csv\n",
    "\n",
    "with open('AmazonWebScrapperDataSet.csv', 'a+', newline='',encoding='UTF8') as f:\n",
    "    writer = csv.writer(f)\n",
    "    writer.writerow(data)\n",
    "      "
   ]
  },
  {
   "cell_type": "code",
   "execution_count": 8,
   "id": "39c1b48c",
   "metadata": {},
   "outputs": [],
   "source": [
    "def check_price():\n",
    "    URL = 'https://www.amazon.in/DUDEME-Predict-Programmer-Developer-T-Shirt/dp/B08J25GNW2/ref=sr_1_5?crid=2J27I5H9PMK4C&dib=eyJ2IjoiMSJ9.XUM2XtFYuyCX0c0HYo7jAY36uJNfGJ7TzadPSjN7VeXtUi-vVg0biylJQHQJEiTQ8UrdYU-SqY-F0jnkuCqso4xC2PSi2u7-pAaL0UBGbshU1ZqHc7c1sl_ijR9Y9mU2QUsd8GDLHSG1YJnhar8Sb8bR2r_6fwRosCb-VF0WJS52cUNqjSZa9kD0irkb2X-xK70sgTwbvUbrVcc9NLT3Y6jMDf15bBZaVp4lMmSqPWk.kuh_CfZcpz1Y0T9YA0PksnPFxKnvsqqxM2sAHFDWkI0&dib_tag=se&keywords=data+analyst+tshirt&qid=1707889394&sprefix=Data+Analyst+%2B+tshirt%2Caps%2C242&sr=8-5'\n",
    "\n",
    "    headers = { \"User-Agent\": \"Mozilla/5.0 (Windows NT 10.0; Win64; x64) AppleWebKit/537.36 (KHTML, like Gecko) Chrome/121.0.0.0 Safari/537.36\", \n",
    "    \"X-Amzn-Trace-Id\": \"Root=1-65cc888a-2e1ef2802d11a6a015045b07\" }\n",
    "\n",
    "    page = requests.get(URL, headers=headers)\n",
    "\n",
    "    soup1 = BeautifulSoup(page.content, \"html.parser\")\n",
    "\n",
    "    soup2 = BeautifulSoup(soup1.prettify(), \"html.parser\")\n",
    "\n",
    "    title = soup2.find(class_='a-size-large product-title-word-break').get_text()\n",
    "\n",
    "    price = soup2.find(class_='a-offscreen').get_text()\n",
    "    \n",
    "    price = price.strip()[1:]\n",
    "    title = title.strip()\n",
    "    \n",
    "    import datetime\n",
    "\n",
    "    today = datetime.date.today()\n",
    "\n",
    "    print(today)\n",
    "    \n",
    "    import csv\n",
    "\n",
    "    header = ['Title','Price','Date']\n",
    "    data = [title,price,today]\n",
    "    \n",
    "    with open('AmazonWebScrapperDataSet.csv', 'a+', newline='',encoding='UTF8') as f:\n",
    "        writer = csv.writer(f)\n",
    "        writer.writerow(data)\n"
   ]
  },
  {
   "cell_type": "code",
   "execution_count": null,
   "id": "d55fcdaf",
   "metadata": {},
   "outputs": [
    {
     "name": "stdout",
     "output_type": "stream",
     "text": [
      "2024-03-09\n"
     ]
    }
   ],
   "source": [
    "# Runs check_price after a set time and inputs data into your CSV\n",
    "\n",
    "while(True):\n",
    "    check_price()\n",
    "    time.sleep(86400)"
   ]
  },
  {
   "cell_type": "code",
   "execution_count": null,
   "id": "f7ddb796",
   "metadata": {},
   "outputs": [],
   "source": [
    "import pandas as pd\n",
    "\n",
    "df = pd.read_csv(r'C:\\Users\\harsh\\AmazonWebScrapperDataSet.csv')\n",
    "\n",
    "print(df)"
   ]
  },
  {
   "cell_type": "code",
   "execution_count": null,
   "id": "24bfd817",
   "metadata": {},
   "outputs": [],
   "source": [
    "# If uou want to try sending yourself an email (just for fun) when a price hits below a certain level you can try it\n",
    "# out with this script\n",
    "\n",
    "def send_mail():\n",
    "    server = smtplib.SMTP_SSL('smtp.gmail.com',465)\n",
    "    server.ehlo()\n",
    "    #server.starttls()\n",
    "    server.ehlo()\n",
    "    server.login('harshalbhute39@gmail.com','xxxxxxxxxxxxxx')\n",
    "    \n",
    "    subject = \"The Shirt you want is below $15! Now is your chance to buy!\"\n",
    "    body = \"Harshal, This is the moment we have been waiting for. Now is your chance to pick up the shirt of your dreams. Don't mess it up! Link here: https://www.amazon.com/Funny-Data-Systems-Business-Analyst/dp/B07FNW9FGJ/ref=sr_1_3?dchild=1&keywords=data+analyst+tshirt&qid=1626655184&sr=8-3\"\n",
    "   \n",
    "    msg = f\"Subject: {subject}\\n\\n{body}\"\n",
    "    \n",
    "    server.sendmail(\n",
    "        'harshalbhute39@gmail.com',\n",
    "        msg\n",
    "     \n",
    "    )"
   ]
  },
  {
   "cell_type": "code",
   "execution_count": null,
   "id": "539d1182",
   "metadata": {},
   "outputs": [],
   "source": []
  }
 ],
 "metadata": {
  "kernelspec": {
   "display_name": "Python 3 (ipykernel)",
   "language": "python",
   "name": "python3"
  },
  "language_info": {
   "codemirror_mode": {
    "name": "ipython",
    "version": 3
   },
   "file_extension": ".py",
   "mimetype": "text/x-python",
   "name": "python",
   "nbconvert_exporter": "python",
   "pygments_lexer": "ipython3",
   "version": "3.11.5"
  }
 },
 "nbformat": 4,
 "nbformat_minor": 5
}
